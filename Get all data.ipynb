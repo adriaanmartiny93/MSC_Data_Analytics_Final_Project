{
 "cells": [
  {
   "cell_type": "code",
   "execution_count": 1,
   "id": "2a34f50e",
   "metadata": {},
   "outputs": [],
   "source": [
    "import requests\n",
    "import pandas as pd\n",
    "import numpy as np\n",
    "import datetime\n",
    "import warnings\n",
    "#Suppress the warning\n",
    "warnings.filterwarnings(\"ignore\", category=FutureWarning)\n",
    "from tqdm import tqdm\n",
    "from time import sleep\n",
    "import random\n",
    "from statsbombpy import sb\n",
    "from pathlib import Path\n",
    "\n",
    "\n",
    "email = \"adriaan.martiny@kaagent.be\"  # email address that you use to login to StatsBomb IQ\n",
    "password = \"GxuOIhdQ\"  # password that you use to login to StatsBomb IQ\n",
    "creds = {\"user\": email, \"passwd\": password}\n",
    "\n",
    "export_path = \"/Users/adriaanmartiny/Documents/KAA Gent - JPL Data/Statsbomb/\"\n",
    "\n",
    "def load_comps():\n",
    "    email = \"adriaan.martiny@kaagent.be\"  # email address that you use to login to StatsBomb IQ\n",
    "    password = \"GxuOIhdQ\"  # password that you use to login to StatsBomb IQ\n",
    "    creds = {\"user\": email, \"passwd\": password}\n",
    "    url = 'https://data.statsbomb.com/api/v4/competitions'\n",
    "    competitions = sb.competitions(creds=creds)\n",
    "\n",
    "    return competitions.competition_id.unique().tolist(), competitions.season_id.unique().tolist()\n",
    "\n",
    "def load_season_data(compIds,seasonIds):\n",
    "    email = \"adriaan.martiny@kaagent.be\"  # email address that you use to login to StatsBomb IQ\n",
    "    password = \"GxuOIhdQ\"  # password that you use to login to StatsBomb IQ\n",
    "    creds = {\"user\": email, \"passwd\": password}\n",
    "    seasonStatsList = []\n",
    "    for c in compIds:\n",
    "        for s in seasonIds:\n",
    "            try:\n",
    "                compInfo = sb.player_season_stats(competition_id=c, season_id=s, creds=creds)\n",
    "                seasonStatsList.append(compInfo)\n",
    "                print(f\"Seasonstats loaded for {c} in {s}\")\n",
    "            except:\n",
    "                pass\n",
    "\n",
    "    loadedStats = pd.concat(seasonStatsList)\n",
    "    \n",
    "    return loadedStats\n",
    "\n",
    "def load_matches(compIds,seasonIds):\n",
    "    email = \"adriaan.martiny@kaagent.be\"  # email address that you use to login to StatsBomb IQ\n",
    "    password = \"GxuOIhdQ\"  # password that you use to login to StatsBomb IQ\n",
    "    creds = {\"user\": email, \"passwd\": password}\n",
    "    gamesList = []\n",
    "    for c in compIds:\n",
    "        for s in seasonIds:\n",
    "            try:\n",
    "                gameInfo = sb.matches(competition_id=c, season_id=s,creds=creds)\n",
    "                gamesList.append(gameInfo)\n",
    "                print(f\"Games loaded for {c} in {s}\")\n",
    "            except:\n",
    "                pass\n",
    "\n",
    "    loadedGames = pd.concat(gamesList)\n",
    "    \n",
    "    return loadedGames\n",
    "\n",
    "\n",
    "def load_events(matchIds):\n",
    "    email = \"adriaan.martiny@kaagent.be\"  # email address that you use to login to StatsBomb IQ\n",
    "    password = \"GxuOIhdQ\"  # password that you use to login to StatsBomb IQ\n",
    "    creds = {\"user\": email, \"passwd\": password}\n",
    "    eventsList = []\n",
    "    for m in tqdm(matchIds):\n",
    "        try:\n",
    "            eventsInfo = sb.events(match_id=m,creds=creds)\n",
    "            eventsInfo = eventsInfo.dropna(axis=1, how='all')\n",
    "            eventsList.append(eventsInfo)\n",
    "            sleep(random.uniform(0.01, 1.8))\n",
    "        except:\n",
    "            pass\n",
    "\n",
    "    loadedEvents = pd.concat(eventsList)\n",
    "    \n",
    "    return loadedEvents\n",
    "\n",
    "\n",
    "\n",
    "\n",
    "def load_player_match(games):\n",
    "    email = \"adriaan.martiny@kaagent.be\"  # email address that you use to login to StatsBomb IQ\n",
    "    password = \"GxuOIhdQ\"  # password that you use to login to StatsBomb IQ\n",
    "    creds = {\"user\": email, \"passwd\": password}\n",
    "    playermatchList = []\n",
    "    for g in tqdm(games):    \n",
    "        try:\n",
    "            playermatchInfo = sb.player_match_stats(g,creds=creds)\n",
    "            \n",
    "             # Check if the result is a non-empty DataFrame\n",
    "            if isinstance(playermatchInfo, pd.DataFrame) and not playermatchInfo.empty:\n",
    "                playermatchList.append(playermatchInfo)\n",
    "            else:\n",
    "                print(f\"No data for match_id: {g}. Skipping.\")\n",
    "\n",
    "        except Exception as e:\n",
    "            tqdm.write(f\"[ERROR] Failed to process match_id {g}: {e}\")\n",
    "            continue\n",
    "\n",
    "            \n",
    "    loadedplayerMatch = pd.concat(playermatchList)\n",
    "    \n",
    "    return loadedplayerMatch\n"
   ]
  },
  {
   "cell_type": "code",
   "execution_count": 2,
   "id": "66244081",
   "metadata": {},
   "outputs": [
    {
     "name": "stdout",
     "output_type": "stream",
     "text": [
      "17347\n"
     ]
    }
   ],
   "source": [
    "allGames = pd.read_csv(f\"{export_path}Games.csv\",sep=\";\")\n",
    "allGames_a = allGames[allGames.match_status == 'available']\n",
    "gameslist = allGames_a.match_id.unique().tolist()\n",
    "print(len(gameslist))"
   ]
  },
  {
   "cell_type": "code",
   "execution_count": 3,
   "id": "a5a0fca0",
   "metadata": {},
   "outputs": [
    {
     "name": "stdout",
     "output_type": "stream",
     "text": [
      "83\n"
     ]
    }
   ],
   "source": [
    "# Group by 'competition' and 'season', then aggregate unique match_ids\n",
    "batches = (\n",
    "    allGames_a.groupby(['competition', 'season'])['match_id']\n",
    "    .unique()\n",
    "    .reset_index(name='match_ids')\n",
    ")\n",
    "\n",
    "# Optional: convert match_ids from numpy array to list\n",
    "batches['match_ids'] = batches['match_ids'].apply(list)\n",
    "\n",
    "# Each row in 'batches' is a batch with a unique combination and the corresponding match_ids\n",
    "print(len(batches))"
   ]
  },
  {
   "cell_type": "code",
   "execution_count": 4,
   "id": "aef4739e",
   "metadata": {
    "scrolled": false
   },
   "outputs": [
    {
     "name": "stdout",
     "output_type": "stream",
     "text": [
      "File exists. Skipping step.\n",
      "File exists. Skipping step.\n",
      "File exists. Skipping step.\n",
      "File exists. Skipping step.\n",
      "File exists. Skipping step.\n",
      "File exists. Skipping step.\n",
      "File exists. Skipping step.\n",
      "File exists. Skipping step.\n",
      "File exists. Skipping step.\n",
      "File exists. Skipping step.\n",
      "File exists. Skipping step.\n",
      "File exists. Skipping step.\n",
      "File exists. Skipping step.\n",
      "File exists. Skipping step.\n",
      "File exists. Skipping step.\n",
      "File exists. Skipping step.\n",
      "File exists. Skipping step.\n",
      "File exists. Skipping step.\n",
      "File exists. Skipping step.\n",
      "File exists. Skipping step.\n",
      "File exists. Skipping step.\n",
      "File exists. Skipping step.\n",
      "File exists. Skipping step.\n",
      "File exists. Skipping step.\n",
      "File exists. Skipping step.\n",
      "File exists. Skipping step.\n",
      "File exists. Skipping step.\n",
      "File exists. Skipping step.\n",
      "File exists. Skipping step.\n",
      "File exists. Skipping step.\n",
      "File exists. Skipping step.\n",
      "File exists. Skipping step.\n",
      "File exists. Skipping step.\n",
      "File exists. Skipping step.\n",
      "File exists. Skipping step.\n",
      "File exists. Skipping step.\n",
      "File exists. Skipping step.\n",
      "File exists. Skipping step.\n",
      "File exists. Skipping step.\n",
      "File exists. Skipping step.\n",
      "File exists. Skipping step.\n",
      "File exists. Skipping step.\n",
      "File exists. Skipping step.\n",
      "File exists. Skipping step.\n",
      "File exists. Skipping step.\n",
      "File exists. Skipping step.\n",
      "File exists. Skipping step.\n",
      "File exists. Skipping step.\n",
      "File exists. Skipping step.\n",
      "File exists. Skipping step.\n",
      "File exists. Skipping step.\n",
      "File exists. Skipping step.\n",
      "File exists. Skipping step.\n",
      "File exists. Skipping step.\n",
      "File exists. Skipping step.\n",
      "File exists. Skipping step.\n",
      "File exists. Skipping step.\n",
      "File exists. Skipping step.\n",
      "File exists. Skipping step.\n",
      "File exists. Skipping step.\n",
      "File exists. Skipping step.\n",
      "File exists. Skipping step.\n",
      "File exists. Skipping step.\n",
      "File exists. Skipping step.\n",
      "File exists. Skipping step.\n",
      "File exists. Skipping step.\n",
      "File exists. Skipping step.\n",
      "File exists. Skipping step.\n",
      "File exists. Skipping step.\n",
      "File exists. Skipping step.\n",
      "File exists. Skipping step.\n",
      "File exists. Skipping step.\n",
      "File exists. Skipping step.\n",
      "File exists. Skipping step.\n",
      "File exists. Skipping step.\n",
      "File exists. Skipping step.\n",
      "File exists. Skipping step.\n",
      "File exists. Skipping step.\n",
      "File exists. Skipping step.\n",
      "File exists. Skipping step.\n"
     ]
    },
    {
     "name": "stderr",
     "output_type": "stream",
     "text": [
      " 67%|███████████████████████████▎             | 347/521 [14:58<15:21,  5.30s/it]"
     ]
    },
    {
     "name": "stdout",
     "output_type": "stream",
     "text": [
      "https://data.statsbombservices.com/api/v4/matches/3876818/player-stats -> 502\n",
      "No data for match_id: 3876818. Skipping.\n"
     ]
    },
    {
     "name": "stderr",
     "output_type": "stream",
     "text": [
      "100%|█████████████████████████████████████████| 521/521 [21:59<00:00,  2.53s/it]\n"
     ]
    },
    {
     "name": "stdout",
     "output_type": "stream",
     "text": [
      "/Users/adriaanmartiny/Documents/KAA Gent - JPL Data/Statsbomb//PlayerGame/player_stats_UnitedStatesofAmericaMajorLeagueSoccer_2023.csv\n",
      "Process complete for United States of America - Major League Soccer in season 2023\n"
     ]
    },
    {
     "name": "stderr",
     "output_type": "stream",
     "text": [
      "100%|█████████████████████████████████████████| 522/522 [23:14<00:00,  2.67s/it]\n"
     ]
    },
    {
     "name": "stdout",
     "output_type": "stream",
     "text": [
      "/Users/adriaanmartiny/Documents/KAA Gent - JPL Data/Statsbomb//PlayerGame/player_stats_UnitedStatesofAmericaMajorLeagueSoccer_2024.csv\n",
      "Process complete for United States of America - Major League Soccer in season 2024\n"
     ]
    },
    {
     "name": "stderr",
     "output_type": "stream",
     "text": [
      "100%|█████████████████████████████████████████| 207/207 [09:38<00:00,  2.79s/it]\n"
     ]
    },
    {
     "name": "stdout",
     "output_type": "stream",
     "text": [
      "/Users/adriaanmartiny/Documents/KAA Gent - JPL Data/Statsbomb//PlayerGame/player_stats_UnitedStatesofAmericaMajorLeagueSoccer_2025.csv\n",
      "Process complete for United States of America - Major League Soccer in season 2025\n"
     ]
    }
   ],
   "source": [
    "for b in range(len(batches)):\n",
    "    filename = f'{export_path}/PlayerGame/player_stats_{batches.competition.iloc[b].replace(\"-\",\"\").replace(\" \",\"\").replace(\"/\",\"\")}_{batches.season.iloc[b].replace(\"/\",\"\")}.csv'\n",
    "    \n",
    "    if Path(filename).exists():\n",
    "        print(\"File exists. Skipping step.\")\n",
    "    \n",
    "    else:\n",
    "        batch = batches.match_ids.iloc[b]\n",
    "        batch_matches = load_player_match(batch)\n",
    "        print(filename)\n",
    "        batch_matches.to_csv(f\"{filename}\"\n",
    "        \n",
    "        ,index=False,sep=';')\n",
    "\n",
    "        print(f\"Process complete for {batches.competition.iloc[b]} in season {batches.season.iloc[b]}\")\n",
    "        sleep(random.uniform(10,19.3))\n",
    "    "
   ]
  },
  {
   "cell_type": "code",
   "execution_count": null,
   "id": "b3ed1405",
   "metadata": {},
   "outputs": [],
   "source": []
  }
 ],
 "metadata": {
  "kernelspec": {
   "display_name": "Python 3 (ipykernel)",
   "language": "python",
   "name": "python3"
  },
  "language_info": {
   "codemirror_mode": {
    "name": "ipython",
    "version": 3
   },
   "file_extension": ".py",
   "mimetype": "text/x-python",
   "name": "python",
   "nbconvert_exporter": "python",
   "pygments_lexer": "ipython3",
   "version": "3.11.5"
  }
 },
 "nbformat": 4,
 "nbformat_minor": 5
}
